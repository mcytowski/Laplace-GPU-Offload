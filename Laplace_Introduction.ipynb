# The Laplace Equation
## Historical note
Laplace's equation is a second-order partial equation named after [Pierre-Simon, marquis de Laplace](https://en.wikipedia.org/wiki/Pierre-Simon_Laplace), a French scholar and polymath whose work was a foundation of many scientific fields including engineering, mathematics, physics, statistics and astronomy.  

![Pierre-Simon, marquis de Laplace](https://upload.wikimedia.org/wikipedia/commons/3/39/Laplace%2C_Pierre-Simon%2C_marquis_de.jpg)

## Problem description

The Laplace equation is commonly used in physics to describe various phenomena, including heat transfer.

The Laplace equation is often written as

![Laplace equation](img/laplace_eq1.png)

or $$ \frac{kram}{down} \sum_0^\infty $$


### H3
#### H4
##### H5
###### H6

Alternatively, for H1 and H2, an underline-ish style:

Alt-H1
======

Alt-H2
------
